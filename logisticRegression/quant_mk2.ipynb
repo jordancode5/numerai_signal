{
 "cells": [
  {
   "cell_type": "code",
   "execution_count": 2,
   "id": "17acedd6",
   "metadata": {},
   "outputs": [],
   "source": [
    "import numpy as np\n",
    "#\n",
    "# Import necessary libraries\n",
    "from numerapi import SignalsAPI\n",
    "import pandas as pd\n",
    "\n",
    "# Train/test split (same split used for all targets)\n",
    "from sklearn.model_selection import train_test_split\n",
    "from scipy.stats import spearmanr\n",
    "from lightgbm import LGBMRegressor\n",
    "from sklearn.metrics import roc_auc_score\n",
    "import joblib\n",
    "from sklearn.preprocessing import MinMaxScaler\n",
    "import matplotlib.pyplot as plt"
   ]
  },
  {
   "cell_type": "code",
   "execution_count": null,
   "id": "47ec0f5e",
   "metadata": {},
   "outputs": [],
   "source": [
    "api = SignalsAPI()\n",
    "api.download_dataset(\n",
    "\t\"signals/v2.0/train.parquet\",\n",
    "\t\"train.parquet\"\n",
    ")\n",
    "api.download_dataset(\n",
    "\t\"signals/v2.0/validation.parquet\",\n",
    "\t\"validation.parquet\"\n",
    ")\n",
    "api.download_dataset(\n",
    "\t\"signals/v2.0/live.parquet\",\n",
    "\t\"live.parquet\"\n",
    ")"
   ]
  },
  {
   "cell_type": "code",
   "execution_count": null,
   "id": "31f86041",
   "metadata": {},
   "outputs": [
    {
     "data": {
      "text/plain": [
       "'\\nfor feature in feature_cols:\\n    for lag in [1, 3]:\\n        df_train_clean[f\"{feature}_lag{lag}\"] = (\\n            df_train_clean\\n            .groupby(\"numerai_ticker\")[feature]\\n            .shift(lag)\\n        )\\n        df_val_clean[f\"{feature}_lag{lag}\"] = (\\n            df_val_clean\\n            .groupby(\"numerai_ticker\")[feature]\\n            .shift(lag)\\n        )\\n'"
      ]
     },
     "execution_count": 28,
     "metadata": {},
     "output_type": "execute_result"
    }
   ],
   "source": [
    "# you can also use other libraries like xgboost, catboost, etc.\n",
    "# you need to train.parquet and test.parquet files\n",
    "df_train = pd.read_parquet(\"train.parquet\")\n",
    "df_val = pd.read_parquet(\"validation.parquet\")\n",
    "\n",
    "# drop rows with too many missing values\n",
    "max_allowed_nans = 5  # adjust as needed\n",
    "feature_cols = [col for col in df_train.columns if col.startswith(\"feature_\")]\n",
    "\n",
    "df_train_clean = df_train[df_train[feature_cols].isna().sum(axis=1) < max_allowed_nans]\n",
    "df_val_clean = df_val[df_val[feature_cols].isna().sum(axis=1) < max_allowed_nans]\n",
    "\n",
    "# we are going to clean stuff up here\n",
    "df_train_clean = df_train.dropna(subset=feature_cols).copy()\n",
    "df_val_clean = df_val.dropna(subset=feature_cols).copy()\n",
    "\n",
    "# define what feature columns we want to use\n",
    "feature_cols = [col for col in df_train_clean.columns if col.startswith(\"feature_\")]\n",
    "feature_cols.remove(\"feature_country\")\n",
    "\n",
    "# first create some mean features for reference\n",
    "for feature in feature_cols:\n",
    "    df_train_clean[f\"{feature}_mean\"] = (\n",
    "        df_train_clean\n",
    "        .groupby([\"date\", \"feature_country\"])[feature]\n",
    "        .transform(\"mean\")\n",
    "    )\n",
    "    df_val_clean[f\"{feature}_mean\"] = (\n",
    "        df_val_clean\n",
    "        .groupby([\"date\", \"feature_country\"])[feature]\n",
    "        .transform(\"mean\")\n",
    "    )\n",
    "# now that we have some mean features, we can either\n",
    "# create lagged features or use delta features\n",
    "# here I am going to create delta features\n",
    "for feature in feature_cols:\n",
    "    df_train_clean[f\"{feature}_delta\"] = (\n",
    "        df_train_clean[feature] - df_train_clean[f\"{feature}_mean\"])\n",
    "    df_val_clean[f\"{feature}_delta\"] = (\n",
    "        df_val_clean[feature] - df_val_clean[f\"{feature}_mean\"])\n",
    "\n",
    "# now you CAN create Lagged features if you want\n",
    "# We will add some lagging features (I am going small because I don't\n",
    "# want to create too many features)\n",
    "\"\"\"\n",
    "for feature in feature_cols:\n",
    "    for lag in [1, 3]:\n",
    "        df_train_clean[f\"{feature}_lag{lag}\"] = (\n",
    "            df_train_clean\n",
    "            .groupby(\"numerai_ticker\")[feature]\n",
    "            .shift(lag)\n",
    "        )\n",
    "        df_val_clean[f\"{feature}_lag{lag}\"] = (\n",
    "            df_val_clean\n",
    "            .groupby(\"numerai_ticker\")[feature]\n",
    "            .shift(lag)\n",
    "        )\n",
    "\"\"\""
   ]
  },
  {
   "cell_type": "code",
   "execution_count": 29,
   "id": "52092d76",
   "metadata": {},
   "outputs": [
    {
     "name": "stderr",
     "output_type": "stream",
     "text": [
      "C:\\Users\\jorda\\AppData\\Local\\Temp\\ipykernel_8876\\3372031683.py:5: FutureWarning: DataFrameGroupBy.apply operated on the grouping columns. This behavior is deprecated, and in a future version of pandas the grouping columns will be excluded from the operation. Either pass `include_groups=False` to exclude the groupings or explicitly select the grouping columns after groupby to silence this warning.\n",
      "  return df_sorted.groupby(ticker_col).apply(lambda g: g.iloc[K:]).reset_index(drop=True)\n",
      "C:\\Users\\jorda\\AppData\\Local\\Temp\\ipykernel_8876\\3372031683.py:5: FutureWarning: DataFrameGroupBy.apply operated on the grouping columns. This behavior is deprecated, and in a future version of pandas the grouping columns will be excluded from the operation. Either pass `include_groups=False` to exclude the groupings or explicitly select the grouping columns after groupby to silence this warning.\n",
      "  return df_sorted.groupby(ticker_col).apply(lambda g: g.iloc[K:]).reset_index(drop=True)\n"
     ]
    }
   ],
   "source": [
    "K = 3  # Number of early rows to drop per ticker\n",
    "\n",
    "def drop_first_k_per_ticker(df, ticker_col='numerai_ticker', date_col='date'):\n",
    "    df_sorted = df.sort_values([ticker_col, date_col])\n",
    "    return df_sorted.groupby(ticker_col).apply(lambda g: g.iloc[K:]).reset_index(drop=True)\n",
    "\n",
    "df_train_clean = drop_first_k_per_ticker(df_train_clean)\n",
    "df_val_clean = drop_first_k_per_ticker(df_val_clean)"
   ]
  },
  {
   "cell_type": "code",
   "execution_count": 30,
   "id": "6550d811",
   "metadata": {},
   "outputs": [
    {
     "name": "stdout",
     "output_type": "stream",
     "text": [
      "Feature columns: ['feature_adv_20d_factor', 'feature_beta_factor', 'feature_book_to_price_factor', 'feature_dividend_yield_factor', 'feature_earnings_yield_factor', 'feature_growth_factor', 'feature_impact_cost_factor', 'feature_market_cap_factor', 'feature_momentum_12w_factor', 'feature_momentum_26w_factor', 'feature_momentum_52w_factor', 'feature_momentum_52w_less_4w_factor', 'feature_ppo_60d_130d_country_ranknorm', 'feature_ppo_60d_90d_country_ranknorm', 'feature_price_factor', 'feature_rsi_130d_country_ranknorm', 'feature_rsi_60d_country_ranknorm', 'feature_rsi_90d_country_ranknorm', 'feature_trix_130d_country_ranknorm', 'feature_trix_60d_country_ranknorm', 'feature_value_factor', 'feature_volatility_factor', 'feature_adv_20d_factor_mean', 'feature_beta_factor_mean', 'feature_book_to_price_factor_mean', 'feature_dividend_yield_factor_mean', 'feature_earnings_yield_factor_mean', 'feature_growth_factor_mean', 'feature_impact_cost_factor_mean', 'feature_market_cap_factor_mean', 'feature_momentum_12w_factor_mean', 'feature_momentum_26w_factor_mean', 'feature_momentum_52w_factor_mean', 'feature_momentum_52w_less_4w_factor_mean', 'feature_ppo_60d_130d_country_ranknorm_mean', 'feature_ppo_60d_90d_country_ranknorm_mean', 'feature_price_factor_mean', 'feature_rsi_130d_country_ranknorm_mean', 'feature_rsi_60d_country_ranknorm_mean', 'feature_rsi_90d_country_ranknorm_mean', 'feature_trix_130d_country_ranknorm_mean', 'feature_trix_60d_country_ranknorm_mean', 'feature_value_factor_mean', 'feature_volatility_factor_mean', 'feature_adv_20d_factor_delta', 'feature_beta_factor_delta', 'feature_book_to_price_factor_delta', 'feature_dividend_yield_factor_delta', 'feature_earnings_yield_factor_delta', 'feature_growth_factor_delta', 'feature_impact_cost_factor_delta', 'feature_market_cap_factor_delta', 'feature_momentum_12w_factor_delta', 'feature_momentum_26w_factor_delta', 'feature_momentum_52w_factor_delta', 'feature_momentum_52w_less_4w_factor_delta', 'feature_ppo_60d_130d_country_ranknorm_delta', 'feature_ppo_60d_90d_country_ranknorm_delta', 'feature_price_factor_delta', 'feature_rsi_130d_country_ranknorm_delta', 'feature_rsi_60d_country_ranknorm_delta', 'feature_rsi_90d_country_ranknorm_delta', 'feature_trix_130d_country_ranknorm_delta', 'feature_trix_60d_country_ranknorm_delta', 'feature_value_factor_delta', 'feature_volatility_factor_delta']\n"
     ]
    }
   ],
   "source": [
    "# redefine Feature and target columns\n",
    "feature_columns = [col for col in df_train_clean.columns if col.startswith(\"feature_\")]\n",
    "target_columns = [col for col in df_train_clean.columns if col.startswith(\"target_\")]\n",
    "feature_columns.remove(\"feature_country\")\n",
    "\n",
    "print(\"Feature columns:\", feature_columns)"
   ]
  },
  {
   "cell_type": "code",
   "execution_count": 31,
   "id": "eb52e1cb",
   "metadata": {},
   "outputs": [],
   "source": [
    "df_train_clean = df_train_clean.dropna(subset=target_columns).copy()\n",
    "df_val_clean = df_val_clean.dropna(subset=target_columns).copy()"
   ]
  },
  {
   "cell_type": "code",
   "execution_count": 32,
   "id": "6001bf03",
   "metadata": {},
   "outputs": [
    {
     "name": "stdout",
     "output_type": "stream",
     "text": [
      "<StringArray>\n",
      "['2009-05-29', '2009-06-05', '2009-06-12', '2009-07-17', '2009-07-24',\n",
      " '2009-07-31', '2009-08-07', '2009-08-14', '2009-08-21', '2009-08-28',\n",
      " ...\n",
      " '2004-05-14', '2004-05-21', '2004-05-28', '2004-06-04', '2004-06-11',\n",
      " '2004-06-18', '2004-07-02', '2004-07-09', '2004-07-16', '2004-06-25']\n",
      "Length: 466, dtype: string\n"
     ]
    }
   ],
   "source": [
    "print(df_train_clean[\"date\"].unique())"
   ]
  },
  {
   "cell_type": "code",
   "execution_count": 37,
   "id": "e7806566",
   "metadata": {},
   "outputs": [],
   "source": [
    "import pandas as pd\n",
    "from pandas import to_datetime"
   ]
  },
  {
   "cell_type": "code",
   "execution_count": 39,
   "id": "f607e114",
   "metadata": {},
   "outputs": [],
   "source": [
    "df_train_clean[\"date\"] = pd.to_datetime(df_train_clean[\"date\"])\n",
    "df_train_clean = df_train_clean.sort_values(\"date\")\n",
    "split_date = pd.to_datetime(\"2007-02-01\")"
   ]
  },
  {
   "cell_type": "code",
   "execution_count": 40,
   "id": "1b49667b",
   "metadata": {},
   "outputs": [],
   "source": [
    "df_train_temporal = df_train_clean[df_train_clean[\"date\"] < split_date].copy()\n",
    "df_val_temporal   = df_train_clean[df_train_clean[\"date\"] >= split_date].copy()"
   ]
  },
  {
   "cell_type": "code",
   "execution_count": null,
   "id": "57aaacf8",
   "metadata": {},
   "outputs": [
    {
     "name": "stdout",
     "output_type": "stream",
     "text": [
      "\n",
      "Training model for target_raw_return_20...\n",
      "target_raw_return_20: y_val NaNs = 0, y_pred NaNs = 0\n",
      "target_raw_return_20: Spearman = 0.0025\n",
      "Saved model for target_raw_return_20\n",
      "\n",
      "Training model for target_raw_return_60...\n",
      "target_raw_return_60: y_val NaNs = 0, y_pred NaNs = 0\n",
      "target_raw_return_60: Spearman = 0.0297\n",
      "Saved model for target_raw_return_60\n",
      "\n",
      "Training model for target_factor_neutral_20...\n",
      "target_factor_neutral_20: y_val NaNs = 0, y_pred NaNs = 0\n",
      "target_factor_neutral_20: Spearman = 0.0153\n",
      "Saved model for target_factor_neutral_20\n",
      "\n",
      "Training model for target_factor_neutral_60...\n",
      "target_factor_neutral_60: y_val NaNs = 0, y_pred NaNs = 0\n",
      "target_factor_neutral_60: Spearman = 0.0197\n",
      "Saved model for target_factor_neutral_60\n",
      "\n",
      "Training model for target_factor_feat_neutral_20...\n",
      "target_factor_feat_neutral_20: y_val NaNs = 0, y_pred NaNs = 0\n",
      "target_factor_feat_neutral_20: Spearman = 0.0058\n",
      "Saved model for target_factor_feat_neutral_20\n",
      "\n",
      "Training model for target_factor_feat_neutral_60...\n",
      "target_factor_feat_neutral_60: y_val NaNs = 0, y_pred NaNs = 0\n",
      "target_factor_feat_neutral_60: Spearman = 0.0094\n",
      "Saved model for target_factor_feat_neutral_60\n",
      "\n",
      "Training model for target_camille_20...\n",
      "target_camille_20: y_val NaNs = 0, y_pred NaNs = 0\n",
      "target_camille_20: Spearman = 0.0066\n",
      "Saved model for target_camille_20\n",
      "\n",
      "Training model for target_camille_60...\n",
      "target_camille_60: y_val NaNs = 0, y_pred NaNs = 0\n",
      "target_camille_60: Spearman = 0.0055\n",
      "Saved model for target_camille_60\n",
      "\n",
      "Training model for target_sydney_20...\n",
      "target_sydney_20: y_val NaNs = 0, y_pred NaNs = 0\n",
      "target_sydney_20: Spearman = 0.0054\n",
      "Saved model for target_sydney_20\n",
      "\n",
      "Training model for target_sydney_60...\n",
      "target_sydney_60: y_val NaNs = 0, y_pred NaNs = 0\n",
      "target_sydney_60: Spearman = 0.0076\n",
      "Saved model for target_sydney_60\n",
      "\n",
      "Training model for target_irina_20...\n",
      "target_irina_20: y_val NaNs = 0, y_pred NaNs = 0\n",
      "target_irina_20: Spearman = 0.0102\n",
      "Saved model for target_irina_20\n",
      "\n",
      "Training model for target_irina_60...\n",
      "target_irina_60: y_val NaNs = 0, y_pred NaNs = 0\n",
      "target_irina_60: Spearman = 0.0169\n",
      "Saved model for target_irina_60\n",
      "\n",
      "Training model for target_alexandra_20...\n",
      "target_alexandra_20: y_val NaNs = 0, y_pred NaNs = 0\n",
      "target_alexandra_20: Spearman = 0.0019\n",
      "Saved model for target_alexandra_20\n",
      "\n",
      "Training model for target_alexandra_60...\n",
      "target_alexandra_60: y_val NaNs = 0, y_pred NaNs = 0\n",
      "target_alexandra_60: Spearman = 0.0161\n",
      "Saved model for target_alexandra_60\n",
      "\n",
      "Training model for target_colleen_20...\n",
      "target_colleen_20: y_val NaNs = 0, y_pred NaNs = 0\n",
      "target_colleen_20: Spearman = 0.0031\n",
      "Saved model for target_colleen_20\n",
      "\n",
      "Training model for target_colleen_60...\n",
      "target_colleen_60: y_val NaNs = 0, y_pred NaNs = 0\n",
      "target_colleen_60: Spearman = 0.0039\n",
      "Saved model for target_colleen_60\n",
      "\n",
      "Training model for target_jean_20...\n",
      "target_jean_20: y_val NaNs = 0, y_pred NaNs = 0\n",
      "target_jean_20: Spearman = 0.0014\n",
      "Saved model for target_jean_20\n",
      "\n",
      "Training model for target_jean_60...\n",
      "target_jean_60: y_val NaNs = 0, y_pred NaNs = 0\n",
      "target_jean_60: Spearman = 0.0170\n",
      "Saved model for target_jean_60\n",
      "\n",
      "Training model for target_eleven_4...\n",
      "target_eleven_4: y_val NaNs = 0, y_pred NaNs = 0\n",
      "target_eleven_4: Spearman = 0.0038\n",
      "Saved model for target_eleven_4\n",
      "\n",
      "Training model for target_eleven_20...\n",
      "target_eleven_20: y_val NaNs = 0, y_pred NaNs = 0\n",
      "target_eleven_20: Spearman = 0.0060\n",
      "Saved model for target_eleven_20\n",
      "\n",
      "Training model for target_eleven_60...\n",
      "target_eleven_60: y_val NaNs = 0, y_pred NaNs = 0\n",
      "target_eleven_60: Spearman = 0.0078\n",
      "Saved model for target_eleven_60\n"
     ]
    }
   ],
   "source": [
    "for target in target_columns:\n",
    "    print(f\"\\nTraining model for {target}...\")\n",
    "\n",
    "    #X_train = df_train_clean[feature_columns]\n",
    "    #y_train = df_train_clean[target]\n",
    "    X_train = df_train_temporal[feature_columns]\n",
    "    y_train = df_train_temporal[target]\n",
    "\n",
    "    X_val = df_val_temporal[feature_columns]\n",
    "    y_val = df_val_temporal[target]\n",
    "\n",
    "    model = LGBMRegressor(\n",
    "        n_estimators=100,\n",
    "        verbosity=-1,\n",
    "        random_state=42\n",
    "    )\n",
    "    \"\"\"\n",
    "    model = LGBMRegressor(\n",
    "        n_estimators=1000,\n",
    "        learning_rate=0.01,\n",
    "        max_depth=6,\n",
    "        num_leaves=31,\n",
    "        colsample_bytree=0.8,\n",
    "        subsample=0.8,\n",
    "        reg_alpha=1.0,\n",
    "        reg_lambda=1.0,\n",
    "        random_state=42,\n",
    "        verbosity=-1\n",
    "    )\n",
    "    \"\"\"\n",
    "    model.fit(X_train, y_train)\n",
    "\n",
    "    # Predict\n",
    "    y_pred = model.predict(X_val)\n",
    "    #print(y_pred[:5])\n",
    "    print(f\"{target}: y_val NaNs = {y_val.isna().sum()}, y_pred NaNs = {np.isnan(y_pred).sum()}\")\n",
    "\n",
    "    # Score\n",
    "    spearman = spearmanr(y_val, y_pred).correlation\n",
    "    print(f\"{target}: Spearman = {spearman:.4f}\")\n",
    "\n",
    "    # Save\n",
    "    joblib.dump(model, f\"lgbm_model_{target}.pkl\")\n",
    "    print(f\"Saved model for {target}\")"
   ]
  },
  {
   "cell_type": "code",
   "execution_count": null,
   "id": "3d1de1c4",
   "metadata": {},
   "outputs": [],
   "source": []
  },
  {
   "cell_type": "code",
   "execution_count": 42,
   "id": "b60c2aaf",
   "metadata": {},
   "outputs": [],
   "source": [
    "# List of targets and their Spearman scores\n",
    "target_spearman_scores = {\n",
    "    \"target_raw_return_20\": 0.0025,\n",
    "    \"target_raw_return_60\": 0.0297,\n",
    "    \"target_factor_neutral_20\": 0.0153,\n",
    "    \"target_factor_neutral_60\": 0.0197,\n",
    "    \"target_factor_feat_neutral_20\": 0.0058,\n",
    "    \"target_factor_feat_neutral_60\": 0.0094,\n",
    "    \"target_camille_20\": 0.0066,\n",
    "    \"target_camille_60\": 0.0055,\n",
    "    \"target_sydney_20\": 0.0054,\n",
    "    \"target_sydney_60\": 0.0076,\n",
    "    \"target_irina_20\": 0.0102,\n",
    "    \"target_irina_60\": 0.0169,\n",
    "    \"target_alexandra_20\": 0.0019,\n",
    "    \"target_alexandra_60\": 0.0161,\n",
    "    \"target_colleen_20\": 0.0031,\n",
    "    \"target_colleen_60\": 0.0039,\n",
    "    \"target_jean_20\": 0.0014,\n",
    "    \"target_jean_60\": 0.0170,\n",
    "    \"target_eleven_4\": 0.0038,\n",
    "    \"target_eleven_20\": 0.0060,\n",
    "    \"target_eleven_60\": 0.0078,\n",
    "}\n",
    "\n",
    "# Step 2: Convert to Series and apply exponential weighting\n",
    "alpha = 2  # You can try 3 or 4 to emphasize top performers more\n",
    "spearman_series = pd.Series(target_spearman_scores)\n",
    "weights = np.power(spearman_series, alpha)\n",
    "weights /= weights.sum()\n",
    "\n",
    "# Generate predictions for each model\n",
    "for target in target_spearman_scores:\n",
    "    model = joblib.load(f\"lgbm_model_{target}.pkl\")\n",
    "    df_val_clean[f\"signal_{target}\"] = model.predict(df_val_clean[feature_columns])\n",
    "\n",
    "# Combine signals with weights into one final signal\n",
    "signal_cols = [f\"signal_{target}\" for target in target_spearman_scores]\n",
    "df_val_clean[\"signal\"] = sum(\n",
    "    df_val_clean[f\"signal_{target}\"] * weight\n",
    "    for target, weight in weights.items()\n",
    ")\n",
    "\n",
    "# Create final submission DataFrame\n",
    "df_val_check2 = df_val_clean[[\"numerai_ticker\", \"date\", \"signal\"]].copy()\n",
    "\n",
    "# Optional: sort by ticker\n",
    "df_val_check2.sort_values(\"numerai_ticker\", inplace=True)\n",
    "\n",
    "# Save submission file\n",
    "df_val_check2.to_csv(\"sharpe_check_cooked.csv\", index=False)\n",
    "\n",
    "# print out a historgram of signal values"
   ]
  },
  {
   "cell_type": "code",
   "execution_count": 43,
   "id": "75f6185c",
   "metadata": {},
   "outputs": [],
   "source": [
    "import matplotlib.pyplot as plt"
   ]
  },
  {
   "cell_type": "code",
   "execution_count": 44,
   "id": "576c77a3",
   "metadata": {},
   "outputs": [
    {
     "data": {
      "image/png": "[encoded data removed]",
      "text/plain": [
       "<Figure size 640x480 with 1 Axes>"
      ]
     },
     "metadata": {},
     "output_type": "display_data"
    }
   ],
   "source": [
    "df_val_check2[\"signal\"].hist(bins=50)\n",
    "plt.title(\"Distribution of Signal Values\")\n",
    "plt.xlabel(\"Signal Value\")\n",
    "plt.ylabel(\"Frequency\")\n",
    "plt.grid(True)\n",
    "plt.show()"
   ]
  },
  {
   "cell_type": "code",
   "execution_count": 45,
   "id": "1d1bf8aa",
   "metadata": {},
   "outputs": [],
   "source": [
    "from sklearn.preprocessing import MinMaxScaler\n",
    "df_val_check2[\"signal\"] = MinMaxScaler().fit_transform(df_val_check2[\"signal\"].values.reshape(-1, 1)).flatten()"
   ]
  },
  {
   "cell_type": "code",
   "execution_count": 47,
   "id": "a61e2e0d",
   "metadata": {},
   "outputs": [],
   "source": [
    "# Save submission file\n",
    "df_val_check2.to_csv(\"sharpe_check_cooked.csv\", index=False)"
   ]
  },
  {
   "cell_type": "code",
   "execution_count": 48,
   "id": "6ebbdca6",
   "metadata": {},
   "outputs": [
    {
     "data": {
      "image/png": "[encoded data removed]",
      "text/plain": [
       "<Figure size 640x480 with 1 Axes>"
      ]
     },
     "metadata": {},
     "output_type": "display_data"
    }
   ],
   "source": [
    "df_val_check2[\"signal\"].hist(bins=50)\n",
    "plt.title(\"Distribution of Signal Values\")\n",
    "plt.xlabel(\"Signal Value\")\n",
    "plt.ylabel(\"Frequency\")\n",
    "plt.grid(True)\n",
    "plt.show()"
   ]
  },
  {
   "cell_type": "markdown",
   "id": "fe80aba7",
   "metadata": {},
   "source": [
    "Now we make out predictions to submit"
   ]
  },
  {
   "cell_type": "code",
   "execution_count": 15,
   "id": "4ddc90a7",
   "metadata": {},
   "outputs": [],
   "source": [
    "df_val_end = pd.read_parquet(\"validation.parquet\")"
   ]
  },
  {
   "cell_type": "code",
   "execution_count": 24,
   "id": "9bd3c502",
   "metadata": {},
   "outputs": [
    {
     "data": {
      "text/plain": [
       "'\\nlast_3_dates = df_val_end[\"date\"].drop_duplicates().sort_values().tail(3).tolist()\\ndf_recent = df_val_end[df_val_end[\"date\"].isin(last_3_dates)].copy()\\ndf_combined = pd.concat([df_recent, df_live], axis=0)\\ndf_combined = df_combined.sort_values([\"numerai_ticker\", \"date\"])\\n'"
      ]
     },
     "execution_count": 24,
     "metadata": {},
     "output_type": "execute_result"
    }
   ],
   "source": [
    "df_live = pd.read_parquet(\"live.parquet\")\n",
    "feature_cols = [col for col in df_live.columns if col.startswith(\"feature_\")]\n",
    "feature_cols.remove(\"feature_country\")\n",
    "df_live = df_live.dropna(subset=feature_cols).copy()\n",
    "\n",
    "\"\"\"\n",
    "last_3_dates = df_val_end[\"date\"].drop_duplicates().sort_values().tail(3).tolist()\n",
    "df_recent = df_val_end[df_val_end[\"date\"].isin(last_3_dates)].copy()\n",
    "df_combined = pd.concat([df_recent, df_live], axis=0)\n",
    "df_combined = df_combined.sort_values([\"numerai_ticker\", \"date\"])\n",
    "\"\"\""
   ]
  },
  {
   "cell_type": "code",
   "execution_count": 14,
   "id": "1276aee9",
   "metadata": {},
   "outputs": [],
   "source": [
    "# print(df_live.head(1))"
   ]
  },
  {
   "cell_type": "code",
   "execution_count": 25,
   "id": "f5db9019",
   "metadata": {},
   "outputs": [
    {
     "data": {
      "text/plain": [
       "'    \\nfor feature in feature_cols:\\n    for lag in [1, 3]:\\n        df_live[f\"{feature}_lag{lag}\"] = (\\n            df_live\\n            .groupby(\"numerai_ticker\")[feature]\\n            .shift(lag)\\n        )\\n        df_live[f\"{feature}_lag{lag}\"] = (\\n            df_live\\n            .groupby(\"numerai_ticker\")[feature]\\n            .shift(lag)\\n        )\\n'"
      ]
     },
     "execution_count": 25,
     "metadata": {},
     "output_type": "execute_result"
    }
   ],
   "source": [
    "# first create some mean features for reference\n",
    "for feature in feature_cols:\n",
    "    df_live[f\"{feature}_mean\"] = (\n",
    "        df_live\n",
    "        .groupby([\"date\", \"feature_country\"])[feature]\n",
    "        .transform(\"mean\")\n",
    "    )\n",
    "    df_live[f\"{feature}_mean\"] = (\n",
    "        df_live\n",
    "        .groupby([\"date\", \"feature_country\"])[feature]\n",
    "        .transform(\"mean\")\n",
    "    )\n",
    "# now that we have some mean features, we can either\n",
    "# create lagged features or use delta features\n",
    "# here I am going to create delta features\n",
    "for feature in feature_cols:\n",
    "    df_live[f\"{feature}_delta\"] = (\n",
    "        df_live[feature] - df_live[f\"{feature}_mean\"])\n",
    "    df_live[f\"{feature}_delta\"] = (\n",
    "        df_live[feature] - df_live[f\"{feature}_mean\"])\n",
    "\"\"\"    \n",
    "for feature in feature_cols:\n",
    "    for lag in [1, 3]:\n",
    "        df_live[f\"{feature}_lag{lag}\"] = (\n",
    "            df_live\n",
    "            .groupby(\"numerai_ticker\")[feature]\n",
    "            .shift(lag)\n",
    "        )\n",
    "        df_live[f\"{feature}_lag{lag}\"] = (\n",
    "            df_live\n",
    "            .groupby(\"numerai_ticker\")[feature]\n",
    "            .shift(lag)\n",
    "        )\n",
    "\"\"\"\n"
   ]
  },
  {
   "cell_type": "code",
   "execution_count": 28,
   "id": "e1b58749",
   "metadata": {},
   "outputs": [],
   "source": [
    "feature_cols = [col for col in df_live.columns if col.startswith(\"feature_\")]\n",
    "feature_cols.remove(\"feature_country\")"
   ]
  },
  {
   "cell_type": "code",
   "execution_count": 19,
   "id": "34d707b0",
   "metadata": {},
   "outputs": [
    {
     "name": "stdout",
     "output_type": "stream",
     "text": [
      "Live date: 2025-07-15\n"
     ]
    }
   ],
   "source": [
    "live_date = df_live[\"date\"].iloc[0]\n",
    "print(f\"Live date: {live_date}\")"
   ]
  },
  {
   "cell_type": "code",
   "execution_count": 33,
   "id": "f12f2bd4",
   "metadata": {},
   "outputs": [
    {
     "data": {
      "image/png": "[encoded data removed]",
      "text/plain": [
       "<Figure size 640x480 with 1 Axes>"
      ]
     },
     "metadata": {},
     "output_type": "display_data"
    }
   ],
   "source": [
    "target_spearman_scores = {\n",
    "    \"target_raw_return_20\": 0.0025,\n",
    "    \"target_raw_return_60\": 0.0297,\n",
    "    \"target_factor_neutral_20\": 0.0153,\n",
    "    \"target_factor_neutral_60\": 0.0197,\n",
    "    \"target_factor_feat_neutral_20\": 0.0058,\n",
    "    \"target_factor_feat_neutral_60\": 0.0094,\n",
    "    \"target_camille_20\": 0.0066,\n",
    "    \"target_camille_60\": 0.0055,\n",
    "    \"target_sydney_20\": 0.0054,\n",
    "    \"target_sydney_60\": 0.0076,\n",
    "    \"target_irina_20\": 0.0102,\n",
    "    \"target_irina_60\": 0.0169,\n",
    "    \"target_alexandra_20\": 0.0019,\n",
    "    \"target_alexandra_60\": 0.0161,\n",
    "    \"target_colleen_20\": 0.0031,\n",
    "    \"target_colleen_60\": 0.0039,\n",
    "    \"target_jean_20\": 0.0014,\n",
    "    \"target_jean_60\": 0.0170,\n",
    "    \"target_eleven_4\": 0.0038,\n",
    "    \"target_eleven_20\": 0.0060,\n",
    "    \"target_eleven_60\": 0.0078,\n",
    "}\n",
    "\n",
    "# Step 2: Convert to Series and apply exponential weighting\n",
    "alpha = 2  # You can try 3 or 4 to emphasize top performers more\n",
    "spearman_series = pd.Series(target_spearman_scores)\n",
    "weights = np.power(spearman_series, alpha)\n",
    "weights /= weights.sum()\n",
    "\n",
    "# Generate predictions for each model\n",
    "for target in target_spearman_scores:\n",
    "    model = joblib.load(f\"lgbm_model_{target}.pkl\")\n",
    "    df_live[f\"signal_{target}\"] = model.predict(df_live[feature_cols])\n",
    "\n",
    "# Combine signals with weights into one final signal\n",
    "signal_cols = [f\"signal_{target}\" for target in target_spearman_scores]\n",
    "df_live[\"signal\"] = sum(\n",
    "    df_live[f\"signal_{target}\"] * weight\n",
    "    for target, weight in weights.items()\n",
    ")\n",
    "\n",
    "# Create final submission DataFrame\n",
    "df_live_submit = df_live[[\"numerai_ticker\", \"date\", \"signal\", \"data_type\"]].copy()\n",
    "\n",
    "# Optional: sort by ticker\n",
    "df_live_submit.sort_values(\"numerai_ticker\", inplace=True)\n",
    "\n",
    "df_live_submit[\"signal\"] = MinMaxScaler().fit_transform(df_live_submit[\"signal\"].values.reshape(-1, 1)).flatten()\n",
    "\n",
    "df_live_submit[\"signal\"].hist(bins=50)\n",
    "plt.title(\"Distribution of Signal Values\")\n",
    "plt.xlabel(\"Signal Value\")\n",
    "plt.ylabel(\"Frequency\")\n",
    "plt.grid(True)\n",
    "plt.show()"
   ]
  },
  {
   "cell_type": "code",
   "execution_count": 34,
   "id": "64f994f2",
   "metadata": {},
   "outputs": [],
   "source": [
    "df_live_submit.to_csv(\"todays_submission.csv\", index=False)"
   ]
  },
  {
   "cell_type": "code",
   "execution_count": 35,
   "id": "33d9a1ce",
   "metadata": {},
   "outputs": [
    {
     "name": "stdout",
     "output_type": "stream",
     "text": [
      "     numerai_ticker        date    signal data_type\n",
      "0         000070 KR  2025-07-15  0.561070      live\n",
      "1         000080 KR  2025-07-15  0.508074      live\n",
      "2         000100 KR  2025-07-15  0.430356      live\n",
      "3         000120 KR  2025-07-15  0.530924      live\n",
      "4         000150 KR  2025-07-15  0.391484      live\n",
      "...             ...         ...       ...       ...\n",
      "7008        ZUMZ US  2025-07-15  0.516587      live\n",
      "7009        ZURN CH  2025-07-15  0.563348      live\n",
      "7010        ZVRA US  2025-07-15  0.609586      live\n",
      "7011         ZWS US  2025-07-15  0.502103      live\n",
      "7012        ZYME US  2025-07-15  0.578565      live\n",
      "\n",
      "[6801 rows x 4 columns]\n"
     ]
    }
   ],
   "source": [
    "print(df_live_submit)"
   ]
  }
 ],
 "metadata": {
  "kernelspec": {
   "display_name": "numerai-env",
   "language": "python",
   "name": "python3"
  },
  "language_info": {
   "codemirror_mode": {
    "name": "ipython",
    "version": 3
   },
   "file_extension": ".py",
   "mimetype": "text/x-python",
   "name": "python",
   "nbconvert_exporter": "python",
   "pygments_lexer": "ipython3",
   "version": "3.10.18"
  }
 },
 "nbformat": 4,
 "nbformat_minor": 5
}
