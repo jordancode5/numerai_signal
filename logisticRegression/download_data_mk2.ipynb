{
 "cells": [
  {
   "cell_type": "markdown",
   "id": "24e52964",
   "metadata": {},
   "source": [
    "First you need to initialize your python packages"
   ]
  },
  {
   "cell_type": "code",
   "execution_count": 1,
   "id": "f1f18322",
   "metadata": {},
   "outputs": [],
   "source": [
    "# numerai's libarary for working with signals\n",
    "from numerapi import SignalsAPI\n",
    "import pandas as pd"
   ]
  },
  {
   "cell_type": "markdown",
   "id": "76740bbf",
   "metadata": {},
   "source": [
    "This will download the necessary data into a parquet file"
   ]
  },
  {
   "cell_type": "code",
   "execution_count": null,
   "id": "56593626",
   "metadata": {},
   "outputs": [],
   "source": [
    "api = SignalsAPI()\n",
    "api.download_dataset(\n",
    "\t\"signals/v2.0/train.parquet\",\n",
    "\t\"train.parquet\"\n",
    ")\n",
    "api.download_dataset(\n",
    "\t\"signals/v2.0/validation.parquet\",\n",
    "\t\"validation.parquet\"\n",
    ")\n",
    "api.download_dataset(\n",
    "\t\"signals/v2.0/live.parquet\",\n",
    "\t\"live.parquet\"\n",
    ")\n",
    "api.download_dataset(\n",
    "\t\"signals/v2.0/live_example_preds.parquet\",\n",
    "\t\"live_example_preds.parquet\"\n",
    ")\n",
    "api.download_dataset(\n",
    "\t\"signals/v2.0/validation_example_preds.parquet\",\n",
    "\t\"validation_example_preds.parquet\"\n",
    ")"
   ]
  },
  {
   "cell_type": "code",
   "execution_count": 2,
   "id": "5ba41ca2",
   "metadata": {},
   "outputs": [
    {
     "name": "stdout",
     "output_type": "stream",
     "text": [
      "  numerai_ticker feature_country composite_figi        date data_type  \\\n",
      "0      000270 KR              KR           None  2003-01-03     train   \n",
      "1      000810 KR              KR           None  2003-01-03     train   \n",
      "2      001040 KR              KR           None  2003-01-03     train   \n",
      "3      001230 KR              KR           None  2003-01-03     train   \n",
      "4      002790 KR              KR           None  2003-01-03     train   \n",
      "\n",
      "   feature_adv_20d_factor  feature_beta_factor  feature_book_to_price_factor  \\\n",
      "0                1.042680                  NaN                      0.059775   \n",
      "1                1.146930                  NaN                     -0.426994   \n",
      "2                0.918285                  NaN                      0.571037   \n",
      "3                0.223996                  NaN                      1.105375   \n",
      "4                0.656947                  NaN                      0.606041   \n",
      "\n",
      "   feature_dividend_yield_factor  feature_earnings_yield_factor  ...  \\\n",
      "0                       0.135088                      -0.073863  ...   \n",
      "1                      -0.128825                      -0.196020  ...   \n",
      "2                       0.258586                       0.336144  ...   \n",
      "3                       1.804623                       0.866963  ...   \n",
      "4                      -0.366554                       0.963657  ...   \n",
      "\n",
      "   target_irina_60  target_alexandra_20  target_alexandra_60  \\\n",
      "0             0.25                 0.25                 0.25   \n",
      "1             0.25                 0.50                 0.25   \n",
      "2             0.25                 0.25                 0.25   \n",
      "3             0.50                 0.50                 0.25   \n",
      "4             0.50                 0.50                 0.25   \n",
      "\n",
      "   target_colleen_20  target_colleen_60  target_jean_20  target_jean_60  \\\n",
      "0               0.25               0.25            0.25            0.25   \n",
      "1               0.50               0.25            0.50            0.00   \n",
      "2               0.25               0.25            0.50            0.25   \n",
      "3               0.50               0.25            0.50            0.25   \n",
      "4               0.50               0.25            0.50            0.25   \n",
      "\n",
      "   target_eleven_4  target_eleven_20  target_eleven_60  \n",
      "0             0.00              0.25              0.50  \n",
      "1             0.50              0.50              0.25  \n",
      "2             0.25              0.50              0.25  \n",
      "3             0.00              0.50              0.25  \n",
      "4             0.25              0.50              0.50  \n",
      "\n",
      "[5 rows x 49 columns]\n"
     ]
    }
   ],
   "source": [
    "df = pd.read_parquet(\"train.parquet\")\n",
    "print(df.head())"
   ]
  },
  {
   "cell_type": "markdown",
   "id": "94ed076f",
   "metadata": {},
   "source": [
    "Pay attention to what features and targets each ticker has"
   ]
  },
  {
   "cell_type": "code",
   "execution_count": 3,
   "id": "0e7597a0",
   "metadata": {},
   "outputs": [
    {
     "name": "stdout",
     "output_type": "stream",
     "text": [
      "numerai_ticker                            000270 KR\n",
      "feature_country                                  KR\n",
      "composite_figi                                 None\n",
      "date                                     2003-01-03\n",
      "data_type                                     train\n",
      "feature_adv_20d_factor                      1.04268\n",
      "feature_beta_factor                             NaN\n",
      "feature_book_to_price_factor               0.059775\n",
      "feature_dividend_yield_factor              0.135088\n",
      "feature_earnings_yield_factor             -0.073863\n",
      "feature_growth_factor                      0.605494\n",
      "feature_impact_cost_factor                      NaN\n",
      "feature_market_cap_factor                  1.038619\n",
      "feature_momentum_12w_factor                     NaN\n",
      "feature_momentum_26w_factor                     NaN\n",
      "feature_momentum_52w_factor                     NaN\n",
      "feature_momentum_52w_less_4w_factor             NaN\n",
      "feature_ppo_60d_130d_country_ranknorm           NaN\n",
      "feature_ppo_60d_90d_country_ranknorm            NaN\n",
      "feature_price_factor                      -0.203801\n",
      "feature_rsi_130d_country_ranknorm               NaN\n",
      "feature_rsi_60d_country_ranknorm                NaN\n",
      "feature_rsi_90d_country_ranknorm                NaN\n",
      "feature_trix_130d_country_ranknorm              NaN\n",
      "feature_trix_60d_country_ranknorm               NaN\n",
      "feature_value_factor                       0.039845\n",
      "feature_volatility_factor                       NaN\n",
      "target                                         0.25\n",
      "target_raw_return_20                           0.25\n",
      "target_raw_return_60                           0.25\n",
      "target_factor_neutral_20                       0.25\n",
      "target_factor_neutral_60                       0.25\n",
      "target_factor_feat_neutral_20                  0.25\n",
      "target_factor_feat_neutral_60                  0.25\n",
      "target_camille_20                              0.25\n",
      "target_camille_60                              0.25\n",
      "target_sydney_20                               0.25\n",
      "target_sydney_60                                0.5\n",
      "target_irina_20                                0.25\n",
      "target_irina_60                                0.25\n",
      "target_alexandra_20                            0.25\n",
      "target_alexandra_60                            0.25\n",
      "target_colleen_20                              0.25\n",
      "target_colleen_60                              0.25\n",
      "target_jean_20                                 0.25\n",
      "target_jean_60                                 0.25\n",
      "target_eleven_4                                 0.0\n",
      "target_eleven_20                               0.25\n",
      "target_eleven_60                                0.5\n",
      "Name: 0, dtype: object\n"
     ]
    }
   ],
   "source": [
    "print(df.iloc[0])"
   ]
  },
  {
   "cell_type": "markdown",
   "id": "fd90e91b",
   "metadata": {},
   "source": [
    "Get an idea for the span of dates that will be used"
   ]
  },
  {
   "cell_type": "code",
   "execution_count": 4,
   "id": "8b24c879",
   "metadata": {},
   "outputs": [
    {
     "name": "stdout",
     "output_type": "stream",
     "text": [
      "<StringArray>\n",
      "['2003-01-03', '2003-01-10', '2003-01-17', '2003-01-24', '2003-01-31',\n",
      " '2003-02-07', '2003-02-14', '2003-02-21', '2003-02-28', '2003-03-07',\n",
      " ...\n",
      " '2012-10-26', '2012-11-02', '2012-11-09', '2012-11-16', '2012-11-23',\n",
      " '2012-11-30', '2012-12-07', '2012-12-14', '2012-12-21', '2012-12-28']\n",
      "Length: 522, dtype: string\n"
     ]
    }
   ],
   "source": [
    "print(df[\"date\"].unique())"
   ]
  },
  {
   "cell_type": "markdown",
   "id": "c019471e",
   "metadata": {},
   "source": [
    "One of the most important parts of data science is learning how/when to clean data and when to throw out the trash data"
   ]
  },
  {
   "cell_type": "code",
   "execution_count": 5,
   "id": "0b31efbc",
   "metadata": {},
   "outputs": [
    {
     "name": "stdout",
     "output_type": "stream",
     "text": [
      "composite_figi                           2536318\n",
      "feature_momentum_52w_less_4w_factor       292462\n",
      "feature_momentum_52w_factor               291298\n",
      "feature_trix_130d_country_ranknorm        199436\n",
      "feature_momentum_26w_factor               127779\n",
      "feature_trix_60d_country_ranknorm          80501\n",
      "feature_momentum_12w_factor                58469\n",
      "feature_ppo_60d_130d_country_ranknorm      57437\n",
      "feature_rsi_130d_country_ranknorm          57418\n",
      "feature_beta_factor                        52902\n",
      "feature_volatility_factor                  52902\n",
      "feature_impact_cost_factor                 52902\n",
      "feature_rsi_90d_country_ranknorm           39396\n",
      "feature_ppo_60d_90d_country_ranknorm       39390\n",
      "feature_rsi_60d_country_ranknorm           25989\n",
      "feature_growth_factor                       4582\n",
      "feature_book_to_price_factor                 388\n",
      "feature_earnings_yield_factor                384\n",
      "dtype: int64\n"
     ]
    }
   ],
   "source": [
    "nan_counts = df.isna().sum()    # Count NaN values in each column\n",
    "print(nan_counts[nan_counts > 0].sort_values(ascending=False))"
   ]
  },
  {
   "cell_type": "code",
   "execution_count": 6,
   "id": "db1d9a26",
   "metadata": {},
   "outputs": [
    {
     "data": {
      "text/plain": [
       "2536318"
      ]
     },
     "execution_count": 6,
     "metadata": {},
     "output_type": "execute_result"
    }
   ],
   "source": [
    "len(df)"
   ]
  },
  {
   "cell_type": "code",
   "execution_count": 7,
   "id": "968da5a3",
   "metadata": {},
   "outputs": [],
   "source": [
    "df.drop(columns=[\"composite_figi\"], inplace=True)"
   ]
  },
  {
   "cell_type": "code",
   "execution_count": 8,
   "id": "5bcb943f",
   "metadata": {},
   "outputs": [],
   "source": [
    "# 1. Select only the feature columns\n",
    "feature_cols = [col for col in df.columns if col.startswith(\"feature_\")]\n",
    "\n",
    "# 2. Count missing values per row in those columns\n",
    "missing_counts = df[feature_cols].isna().sum(axis=1)\n",
    "\n",
    "# 3. Filter out rows with 7 or more missing feature values\n",
    "df_clean = df[missing_counts < 1]   # Adjust the threshold as needed\n",
    "# we are going to go nuclear right now (trash all NaN values)"
   ]
  },
  {
   "cell_type": "code",
   "execution_count": 10,
   "id": "80add7aa",
   "metadata": {},
   "outputs": [
    {
     "name": "stdout",
     "output_type": "stream",
     "text": [
      "Series([], dtype: int64)\n"
     ]
    }
   ],
   "source": [
    "nan_counts = df_clean.isna().sum()    # Count NaN values in each column\n",
    "print(nan_counts[nan_counts > 0].sort_values(ascending=False))"
   ]
  },
  {
   "cell_type": "markdown",
   "id": "3f9d3ba6",
   "metadata": {},
   "source": [
    "We have now done the bare minimum amount of cleaning to start using this data in a meaningful way.\n",
    "In the next Jupyter notebook files we are going to start using this data to predict future price action"
   ]
  },
  {
   "cell_type": "code",
   "execution_count": 11,
   "id": "7e778826",
   "metadata": {},
   "outputs": [
    {
     "name": "stdout",
     "output_type": "stream",
     "text": [
      "numerai_ticker                            000100 KR\n",
      "feature_country                                  KR\n",
      "date                                     2004-01-09\n",
      "data_type                                     train\n",
      "feature_adv_20d_factor                     0.009756\n",
      "feature_beta_factor                       -0.237552\n",
      "feature_book_to_price_factor               -0.36067\n",
      "feature_dividend_yield_factor             -0.076441\n",
      "feature_earnings_yield_factor              0.266838\n",
      "feature_growth_factor                     -1.264913\n",
      "feature_impact_cost_factor                -0.218123\n",
      "feature_market_cap_factor                 -0.519312\n",
      "feature_momentum_12w_factor                0.178576\n",
      "feature_momentum_26w_factor               -0.178896\n",
      "feature_momentum_52w_factor                0.030522\n",
      "feature_momentum_52w_less_4w_factor       -0.179817\n",
      "feature_ppo_60d_130d_country_ranknorm     -0.106543\n",
      "feature_ppo_60d_90d_country_ranknorm       0.076032\n",
      "feature_price_factor                       1.069491\n",
      "feature_rsi_130d_country_ranknorm          0.422408\n",
      "feature_rsi_60d_country_ranknorm            0.61373\n",
      "feature_rsi_90d_country_ranknorm           0.559592\n",
      "feature_trix_130d_country_ranknorm         0.121306\n",
      "feature_trix_60d_country_ranknorm          0.152506\n",
      "feature_value_factor                      -0.100082\n",
      "feature_volatility_factor                 -0.390633\n",
      "target                                          0.5\n",
      "target_raw_return_20                            0.5\n",
      "target_raw_return_60                           0.75\n",
      "target_factor_neutral_20                        0.5\n",
      "target_factor_neutral_60                        0.5\n",
      "target_factor_feat_neutral_20                   0.5\n",
      "target_factor_feat_neutral_60                   0.5\n",
      "target_camille_20                              0.25\n",
      "target_camille_60                               0.5\n",
      "target_sydney_20                                0.5\n",
      "target_sydney_60                                0.5\n",
      "target_irina_20                                 0.5\n",
      "target_irina_60                                 0.5\n",
      "target_alexandra_20                             0.5\n",
      "target_alexandra_60                             0.5\n",
      "target_colleen_20                               0.5\n",
      "target_colleen_60                               0.5\n",
      "target_jean_20                                  0.5\n",
      "target_jean_60                                  0.5\n",
      "target_eleven_4                                 0.5\n",
      "target_eleven_20                               0.25\n",
      "target_eleven_60                                0.5\n",
      "Name: 161232, dtype: object\n"
     ]
    }
   ],
   "source": [
    "print(df_clean.iloc[0])"
   ]
  }
 ],
 "metadata": {
  "kernelspec": {
   "display_name": "numerai-env",
   "language": "python",
   "name": "python3"
  },
  "language_info": {
   "codemirror_mode": {
    "name": "ipython",
    "version": 3
   },
   "file_extension": ".py",
   "mimetype": "text/x-python",
   "name": "python",
   "nbconvert_exporter": "python",
   "pygments_lexer": "ipython3",
   "version": "3.10.18"
  }
 },
 "nbformat": 4,
 "nbformat_minor": 5
}
